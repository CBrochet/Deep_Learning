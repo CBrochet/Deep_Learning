{
 "cells": [
  {
   "cell_type": "markdown",
   "metadata": {},
   "source": [
    "<h1 style=\"text-align:center\">Deep Learning  Lab Session </h1>\n",
    "<h1 style=\"text-align:center\">First Lab Session - 3 Hours </h1>\n",
    "<h1 style=\"text-align:center\">Artificial Neural Networks for Handwritten Digits Recognition</h1>"
   ]
  },
  {
   "cell_type": "markdown",
   "metadata": {},
   "source": [
    "<b> Student 1:</b> Alix Tarantelli  \n",
    "<b> Student 2:</b> Chloe Brochet Lostie de Kerhor  \n",
    "<b> Group name:</b> deeplearn12\n",
    " \n",
    " \n",
    "The aim of this session is to practice with Artificial Neural Networks. Answers and experiments should be made by groups of two students. Each group should fill and run appropriate notebook cells. \n",
    "\n",
    "To generate your final report and upload it on the submission website http://bigfoot-m1.eurecom.fr/teachingsub/login (using your deeplearnXX/password). Do not forget to run all your cells before generating your final report and do not forget to include the names of all participants in the group. The lab session should be completed ans submitted by April 13th 2018 (23:59:59 CET). "
   ]
  },
  {
   "cell_type": "markdown",
   "metadata": {},
   "source": [
    "# Introduction"
   ]
  },
  {
   "cell_type": "markdown",
   "metadata": {},
   "source": [
    "During this lab session, you will implement, train and test a Neural Network\n",
    "for the Handwritten Digits Recognition problem <a href=\"http://yann.lecun.com/exdb/mnist/\"> [1] </a> with  different settings of hyperparameters. You will use the MNIST dataset which was constructed from scanned documents available from the National Institute of Standards and Technology (NIST). Images of digits were taken from a variety of scanned documents, normalized in size and centered. \n",
    "\n",
    "\n",
    "<img src=\"Nimages/mnist.png\",width=\"350\" height=\"500\" align=\"center\">\n",
    "<center><span>Figure 1: MNIST digits examples</span></center>\n",
    "\n",
    "\n",
    "This assignment includes a written part of programms to help you understand how to build and train\n",
    "your neural net and then to test your code and get results. \n",
    "\n",
    "1. <a href=\"NeuralNetwork.py\"> NeuralNetwork.py </a> \n",
    "2. <a href=\"transfer_functions.py\"> transfer_functions.py </a> \n",
    "3.  <a href=\"utils.py \"> utils.py </a> \n",
    "\n",
    "\n",
    "Functions defined inside the python files mentionned above can be imported  using the python command \"from filename import function\".\n",
    "\n",
    "You will use the following libraries:\n",
    "\n",
    "1. <a href=\"http://cs231n.github.io/python-numpy-tutorial/\"> numpy </a>: for creating arrays and using methods to manipulate arrays;\n",
    "\n",
    "2. <a href=\"http://matplotlib.org/\"> matplotlib  </a>: for making plots.\n",
    "\n",
    "Before starting the lab, please launch the cell below. After that, you may not need to do any imports during the lab."
   ]
  },
  {
   "cell_type": "code",
   "execution_count": 1,
   "metadata": {
    "collapsed": true
   },
   "outputs": [],
   "source": [
    "# All imports\n",
    "from NeuralNetwork import NeuralNetwork\n",
    "from transfer_functions import *\n",
    "from utils import *\n",
    "import numpy as np\n",
    "import matplotlib"
   ]
  },
  {
   "cell_type": "markdown",
   "metadata": {},
   "source": [
    "# Section 1 :  Your First Neural Network\n",
    "\n",
    "<b>Part 1</b>: Before designing and writing your code, you will first work on a neural network by hand. \n",
    "Consider the following neural network with two inputs $x=(x_1,x_2)$, one hidden layer and a single output unit $y$.\n",
    "The initial weights are set to random values. Neurons 6 and 7 represent biases. Bias values are equal to 1. You will consider a training sample whose feature vector is $x = (0.8, 0.2)$ and whose label is $y = 0.4$.\n",
    "\n",
    "Assume that neurons have a sigmoid activation function  $f(x)=\\frac{1}{(1+e^{-x})}$. The loss function $L$ is a Mean Squared Error (MSE): if $o$ denotes the output of the neural network, then the loss for a given sample $(o, y)$ is $L(o, y) = \\left|\\left| o - y \\right|\\right|^2$. In the following, you will assume that if you want to backpropagate the error on a whole batch, you will backpropagate the average error on that batch. More formally, let $((x^{(1)}, y^{(1)}), ..., (x^{(N)}, y^{(N)}))$ be a batch and $o^{(k)}$ the output associated to $x^{(k)}$. Then the total error $\\bar{L}$ will be as follows:\n",
    "\n",
    "<div align=\"center\">$\\bar{L} = \\frac{1}{N} \\sum_{k=1}^{N} L(o^{(k)}, y^{(k)})$.</div>\n",
    "\n",
    "\n",
    "\n",
    "\n",
    "<img src=\"Nimages/NN.png\", width=\"700\" height=\"900\"> \n",
    "<center><span>Figure 2: Neural network </span></center>\n",
    "\n",
    "\n",
    "<b>Question 1.1.1</b>: Compute the new values of weights $w_{i,j}$ after a forward pass and a backward pass, and the outputs of the neural network before and after the backward path, when the learning rate is $\\lambda$=5.\n",
    "$w_{i,j}$ is the weight of the connexion between neuron $i$ and neuron $j$. Please detail your computations in the cell below and print your answers."
   ]
  },
  {
   "cell_type": "code",
   "execution_count": 2,
   "metadata": {},
   "outputs": [
    {
     "name": "stdout",
     "output_type": "stream",
     "text": [
      "=== FORWARD PASS 1 ===\n",
      "Output = 0.55972959911\n"
     ]
    }
   ],
   "source": [
    "lr = 5.0\n",
    "x1, x2, x6, x7 = 0.8, 0.2, 1.0, 1.0\n",
    "w13, w14, w23, w24, w63, w64 = 0.3, -0.5, 0.8, 0.2, 0.2, -0.4\n",
    "w35, w45, w75 = -0.6, 0.4, 0.5\n",
    "y = 0.4\n",
    "\n",
    "\n",
    "Weigths = np.array([[w13,w23,w63],[w14,w24,w64]]) ## from input to hidden \n",
    "Weigths2 = np.array([w35,w45,w75]) ## from hidden to ouput \n",
    "inputs = np.array([x1,x2,x6])\n",
    "\n",
    "# hidden = [[x3,x4]]\n",
    "hidden = sigmoid(Weigths.dot(inputs))\n",
    "hidden = np.append(hidden, x7)\n",
    "x5 = sigmoid(Weigths2.dot(hidden))\n",
    "x3 = hidden[0]\n",
    "x4 = hidden[1]\n",
    "\n",
    "\"\"\"\n",
    "def fonctionf(x,w,b):\n",
    "    a=x[0]*w[0]+x[1]*w[1]+b\n",
    "    return(sigmoid(a))\n",
    "\n",
    "x3 = fonctionf([x1,x2],[w13,w23],w63)\n",
    "x4 = fonctionf([x1,x2],[w14,w24],w64)\n",
    "x5 = fonctionf([x3,x4],[w35,w45],w75)\n",
    "\"\"\"\n",
    "\n",
    "print(\"=== FORWARD PASS 1 ===\")\n",
    "print(\"Output =\", x5)"
   ]
  },
  {
   "cell_type": "code",
   "execution_count": 3,
   "metadata": {},
   "outputs": [
    {
     "name": "stdout",
     "output_type": "stream",
     "text": [
      "=== BACKWARD PASS ===\n",
      "w13 = -0.149618331466\n",
      "w14 = -0.25179050519\n",
      "w23 = 0.687595417133\n",
      "w24 = 0.235325552233\n",
      "w63 = -0.362022914333\n",
      "w64 = -0.223372238834\n",
      "w35 = -0.854146750628\n",
      "w45 = 0.274572721777\n",
      "w75 = 0.106374555352\n",
      "=== FORWARD PASS 2 ===\n",
      "Output = 0.46598863959\n"
     ]
    }
   ],
   "source": [
    "d_w35 = 2*(x5-y)*x5*(1-x5)*x3\n",
    "d_w45 = 2*(x5-y)*x5*(1-x5)*x4 \n",
    "d_w75 = 2*(x5-y)*x5*(1-x5)\n",
    "\n",
    "d_w13 = 2*(x3-y)*x3*(1-x3)*x1\n",
    "d_w14 = 2*(x4-y)*x5*(1-x4)*x1\n",
    "d_w23 = 2*(x3-y)*x3*(1-x3)*x2\n",
    "d_w24 = 2*(x4-y)*x4*(1-x4)*x2\n",
    "d_w63 = 2*(x3-y)*x3*(1-x3)*x6\n",
    "d_w64 = 2*(x4-y)*x4*(1-x4)*x6\n",
    "\n",
    "w13 -= lr*d_w13\n",
    "w14 -= lr*d_w14\n",
    "w23 -= lr*d_w23\n",
    "w24 -= lr*d_w24\n",
    "w63 -= lr*d_w63\n",
    "w64 -= lr*d_w64\n",
    "w35 -= lr*d_w35\n",
    "w45 -= lr*d_w45\n",
    "w75 -= lr*d_w75\n",
    "\n",
    "print(\"=== BACKWARD PASS ===\")\n",
    "print(\"w13 =\", w13)\n",
    "print(\"w14 =\", w14)\n",
    "print(\"w23 =\", w23)\n",
    "print(\"w24 =\", w24)\n",
    "print(\"w63 =\", w63)\n",
    "print(\"w64 =\", w64)\n",
    "print(\"w35 =\", w35)\n",
    "print(\"w45 =\", w45)\n",
    "print(\"w75 =\", w75)\n",
    "\n",
    "\n",
    "W = np.array([[w13,w23,w63],[w14,w24,w64]]) ## from input to hidden \n",
    "W2 = np.array([w35,w45,w75]) ## from hidden to ouput \n",
    "inp = np.array([x1,x2,x6])\n",
    "hid = sigmoid(W.dot(inp))\n",
    "hid = np.append(hid, x7)\n",
    "x5 = sigmoid(W2.dot(hid))\n",
    "x3 = hid[0]\n",
    "x4 = hid[1]\n",
    "\n",
    "print(\"=== FORWARD PASS 2 ===\")\n",
    "print(\"Output =\", x5)"
   ]
  },
  {
   "cell_type": "markdown",
   "metadata": {},
   "source": [
    "<b>Part 2</b>: Neural Network Implementation\n",
    "\n",
    "Please read all source files carefully and understand the data structures and all functions.\n",
    "You are to complete the missing code. \n",
    "First you should define the neural network (using the NeuralNetwork class, see in the <a href=\"NeuralNetwork.py\"> NeuralNetwork.py</a> file) and reinitialise weights. \n",
    "Then you will need to complete the feedforward() and the backpropagate() functions. \n",
    "\n",
    "<b>Question 1.2.1</b>: Implement the feedforward() function."
   ]
  },
  {
   "cell_type": "code",
   "execution_count": 4,
   "metadata": {
    "collapsed": true
   },
   "outputs": [],
   "source": [
    "class NeuralNetwork(NeuralNetwork):\n",
    "    def feedforward(self, inputs):\n",
    "        self.o_input[0][:-1]=inputs[0]\n",
    "     \n",
    "        \n",
    "       # print(self.o_input)\n",
    "       # print(self.u_hidden)\n",
    "       # print(self.o_hidden)\n",
    "        ## hidden layer \n",
    "        self.u_hidden = self.W_input_to_hidden.dot(self.o_input[0])\n",
    "       # print(self.o_input)\n",
    "        print(self.u_hidden)\n",
    "       # print(self.o_hidden)\n",
    "        self.o_hidden[0][:-1] = sigmoid(self.u_hidden)\n",
    "        \n",
    "    \n",
    "        #output layer\n",
    "        self.u_output = self.W_hidden_to_output.dot(self.o_hidden[0])\n",
    "        self.o_output = sigmoid(self.u_output)\n",
    "        #print(self.o_output)\n",
    "      \n",
    "    \n",
    "        \n",
    "        "
   ]
  },
  {
   "cell_type": "markdown",
   "metadata": {},
   "source": [
    "<b>Question 1.2.2</b>: Test your implementation: create the Neural Network defined in Part 1 and see if the feedforward() function you implemented gives the same results as the ones you found by hand."
   ]
  },
  {
   "cell_type": "code",
   "execution_count": 5,
   "metadata": {},
   "outputs": [
    {
     "name": "stdout",
     "output_type": "stream",
     "text": [
      "[[ 0.8  0.2  0. ]]\n"
     ]
    }
   ],
   "source": [
    "a=np.zeros((1,3))\n",
    "a[0,:-1]=np.array([0.8,0.2])\n",
    "\n",
    "print(a)\n"
   ]
  },
  {
   "cell_type": "code",
   "execution_count": 6,
   "metadata": {},
   "outputs": [
    {
     "name": "stdout",
     "output_type": "stream",
     "text": [
      "[[ 0.6  -0.76]]\n",
      "Output = [ 0.5597296]\n"
     ]
    }
   ],
   "source": [
    "# First define your neural network\n",
    "model = NeuralNetwork(input_layer_size = 2, hidden_layer_size=2, output_layer_size=2, batch_size=1, transfer_f=sigmoid, transfer_df=dsigmoid)\n",
    "w13, w14, w23, w24, w63, w64 = 0.3, -0.5, 0.8, 0.2, 0.2, -0.4\n",
    "w35, w45, w75= -0.6, 0.4, 0.5\n",
    "# Then initialize the weights according to Figure 2\n",
    "W_input_to_hidden = np.array([[[w13,w23,w63],[w14,w24,w64]]])\n",
    "W_hidden_to_output =  np.array([[w35,w45,w75]])\n",
    "model.weights_init(W_input_to_hidden, W_hidden_to_output)\n",
    "\n",
    "# Feed test values\n",
    "test = np.array([[0.8, 0.2]])\n",
    "model.feedforward(test)\n",
    "\n",
    "\n",
    "# Print the output\n",
    "print(\"Output =\", model.o_output)"
   ]
  },
  {
   "cell_type": "markdown",
   "metadata": {},
   "source": [
    "<b>Question 1.2.3</b>: Implement the backpropagate() function."
   ]
  },
  {
   "cell_type": "code",
   "execution_count": 7,
   "metadata": {
    "collapsed": true
   },
   "outputs": [],
   "source": [
    "class NeuralNetwork(NeuralNetwork):\n",
    "    def backpropagate(self, targets, learning_rate=5.0):\n",
    "\n",
    "        self.dE_du_output = 2*(self.o_output - targets)*self.o_output*(1-self.o_output)\n",
    "        print(self.dE_du_output)\n",
    "        print(self.o_hidden)\n",
    "        print(self.W_hidden_to_output)\n",
    "        self.W_hidden_to_output -= learning_rate*self.dE_du_output[0]*self.o_hidden[0]\n",
    "        self.dE_du_hidden[0] = 2*(self.o_hidden[0,0:-1] - targets)*self.o_hidden[0,0:-1]*(1-self.o_hidden[0,0:-1])\n",
    "    \n",
    "        for i in range(0,self.hidden_layer_size-1):\n",
    "            self.W_input_to_hidden[i] -= learning_rate*self.dE_du_hidden[0][i]*self.o_input[0]\n",
    "        "
   ]
  },
  {
   "cell_type": "markdown",
   "metadata": {},
   "source": [
    "<b>Question 1.2.4</b>: Test your implementation: create the Neural Network defined in Part 1 and see if the backpropagate() function you implemented gives the same weight updates as the ones you found by hand. Do another forward pass and see if the new output is the same as the one you obtained in Question 1.1.1."
   ]
  },
  {
   "cell_type": "code",
   "execution_count": 8,
   "metadata": {},
   "outputs": [
    {
     "name": "stdout",
     "output_type": "stream",
     "text": [
      "[ 0.6  -0.76]\n",
      "Output = 0.55972959911\n",
      "[[ 0.07872509]]\n",
      "[[ 0.64565631  0.31864627  1.        ]]\n",
      "[-0.6  0.4  0.5]\n",
      "W_input_to_hidden = [[-0.14961833  0.68759542 -0.36202291]\n",
      " [-0.35869779  0.23532555 -0.22337224]]\n",
      "W_hidden_to_output = [-0.85414675  0.27457272  0.10637456]\n"
     ]
    }
   ],
   "source": [
    "# First define your neural network\n",
    "model = NeuralNetwork(input_layer_size = 2, hidden_layer_size=2, output_layer_size=1, batch_size=1, transfer_f=sigmoid, transfer_df=dsigmoid)\n",
    "w13, w14, w23, w24, w63, w64 = 0.3, -0.5, 0.8, 0.2, 0.2, -0.4\n",
    "w35, w45, w75 = -0.6, 0.4, 0.5\n",
    "# Then initialize the weights according to Figure 2\n",
    "W_input_to_hidden = np.array([[w13,w23,w63],[w14,w24,w64]])\n",
    "W_hidden_to_output = np.array([w35,w45,w75])\n",
    "model.weights_init(W_input_to_hidden, W_hidden_to_output)\n",
    "\n",
    "# Feed test values\n",
    "tµest = np.array([0.8, 0.2])\n",
    "model.feedforward(test)\n",
    "print(\"Output =\", model.o_output)\n",
    "targets = [[0.4]]\n",
    "model.backpropagate(targets)\n",
    "print(\"W_input_to_hidden =\", model.W_input_to_hidden)\n",
    "print(\"W_hidden_to_output =\", model.W_hidden_to_output)"
   ]
  },
  {
   "cell_type": "code",
   "execution_count": 9,
   "metadata": {},
   "outputs": [
    {
     "name": "stdout",
     "output_type": "stream",
     "text": [
      "[[ 0.07872509]]\n",
      "[[ 0.64565631  0.31864627  1.        ]]\n",
      "[-0.85414675  0.27457272  0.10637456]\n",
      "W_input_to_hidden = [[-0.59923666  0.57519083 -0.92404583]\n",
      " [-0.21739558  0.2706511  -0.04674448]]\n",
      "W_hidden_to_output = [-1.1082935   0.14914544 -0.28725089]\n",
      "[-1.28839699 -0.16653072]\n"
     ]
    },
    {
     "data": {
      "text/plain": [
       "('Output =', 0.38736491231933678)"
      ]
     },
     "execution_count": 9,
     "metadata": {},
     "output_type": "execute_result"
    }
   ],
   "source": [
    "\n",
    "    # Backpropagate\n",
    "targets = [[0.4]]\n",
    "model.backpropagate(targets)\n",
    "\n",
    "    # Print weights\n",
    "print(\"W_input_to_hidden =\", model.W_input_to_hidden)\n",
    "print(\"W_hidden_to_output =\", model.W_hidden_to_output)\n",
    "\n",
    "    # Feed test values again\n",
    "model.feedforward(test)\n",
    "(\"Output =\", model.o_output)\n"
   ]
  },
  {
   "cell_type": "markdown",
   "metadata": {},
   "source": [
    "Checked your implementations and found that everything was fine? Congratulations! You can move to the next section."
   ]
  },
  {
   "cell_type": "markdown",
   "metadata": {},
   "source": [
    "# Section 2: Handwritten Digits Recognition"
   ]
  },
  {
   "cell_type": "markdown",
   "metadata": {},
   "source": [
    "The MNIST dataset consists of handwritten digit images. It is split into a training set containing 60,000 samples and a test set containing 10,000 samples. In this Lab Session, the official training set of 60,000 images is divided into an actual training set of 50,000 samples a validation set of 10,000 samples. All digit images have been size-normalized and centered in a fixed size image of 28 x 28 pixels. Images are stored in byte form: you will use the NumPy python library to convert data files into NumPy arrays that you will use to train your Neural Networks.\n",
    "\n",
    "You will first work with a small subset of MNIST (1000 samples), then on a very small subset of MNIST (10 samples), and eventually run a model on the whole one.\n",
    "\n",
    "The MNIST dataset is available in the Data folder.\n",
    "To get the training, testing and validation data, run the load_data() function.\n"
   ]
  },
  {
   "cell_type": "code",
   "execution_count": 10,
   "metadata": {},
   "outputs": [
    {
     "name": "stdout",
     "output_type": "stream",
     "text": [
      "\u001b[0m\u001b[01;34mData\u001b[0m/                       \u001b[01;32mNeuralNetwork.py\u001b[0m*   \u001b[01;32mtransfer_functions.py\u001b[0m*\n",
      "\u001b[01;34mImages_test\u001b[0m/                \u001b[01;32mNeuralNetwork.pyc\u001b[0m*  \u001b[01;32mtransfer_functions.pyc\u001b[0m*\n",
      "\u001b[01;32mLab1_DL-Students_v3.ipynb\u001b[0m*  \u001b[01;34mNimages\u001b[0m/            \u001b[01;32mutils.py\u001b[0m*\n",
      "\u001b[01;32mLab1.ipynb\u001b[0m*                 \u001b[01;34m__pycache__\u001b[0m/        \u001b[01;32mutils.pyc\u001b[0m*\n",
      "[[[ 0.  0.  0.  0.]\n",
      "  [ 0.  0.  0.  0.]\n",
      "  [ 0.  0.  0.  0.]]\n",
      "\n",
      " [[ 0.  0.  0.  0.]\n",
      "  [ 0.  0.  0.  0.]\n",
      "  [ 0.  0.  0.  0.]]]\n"
     ]
    }
   ],
   "source": [
    "%run utils.py\n",
    "%ls\n",
    "a=np.zeros((2,3,4))\n",
    "#a[0]=np.zeros(4)\n",
    "\n",
    "print(a)\n"
   ]
  },
  {
   "cell_type": "code",
   "execution_count": 11,
   "metadata": {},
   "outputs": [
    {
     "name": "stdout",
     "output_type": "stream",
     "text": [
      "Loading MNIST data .....\n",
      "Done.\n"
     ]
    }
   ],
   "source": [
    "# Just run that cell ;-)\n",
    "training_data, validation_data, test_data = load_data()\n",
    "small_training_data = (training_data[0][:1000], training_data[1][:1000])\n",
    "small_validation_data = (validation_data[0][:200], validation_data[1][:200])\n",
    "indices = [1, 3, 5, 7, 2, 0, 13, 15, 17, 4]\n",
    "vsmall_training_data = ([training_data[0][i] for i in indices], [training_data[1][i] for i in indices])"
   ]
  },
  {
   "cell_type": "code",
   "execution_count": 1,
   "metadata": {},
   "outputs": [
    {
     "ename": "NameError",
     "evalue": "name 'NeuralNetwork' is not defined",
     "output_type": "error",
     "traceback": [
      "\u001b[0;31m---------------------------------------------------------------------------\u001b[0m",
      "\u001b[0;31mNameError\u001b[0m                                 Traceback (most recent call last)",
      "\u001b[0;32m<ipython-input-1-ca4dc0575dd1>\u001b[0m in \u001b[0;36m<module>\u001b[0;34m()\u001b[0m\n\u001b[0;32m----> 1\u001b[0;31m \u001b[0;32mclass\u001b[0m \u001b[0mNeuralNetwork\u001b[0m\u001b[0;34m(\u001b[0m\u001b[0mNeuralNetwork\u001b[0m\u001b[0;34m)\u001b[0m\u001b[0;34m:\u001b[0m\u001b[0;34m\u001b[0m\u001b[0m\n\u001b[0m\u001b[1;32m      2\u001b[0m     \u001b[0;32mdef\u001b[0m \u001b[0mfeedforward2\u001b[0m\u001b[0;34m(\u001b[0m\u001b[0mself\u001b[0m\u001b[0;34m,\u001b[0m \u001b[0minputs\u001b[0m\u001b[0;34m)\u001b[0m\u001b[0;34m:\u001b[0m\u001b[0;34m\u001b[0m\u001b[0m\n\u001b[1;32m      3\u001b[0m         \u001b[0;31m#self.o_input[0][:-1]=inputs[0]\u001b[0m\u001b[0;34m\u001b[0m\u001b[0;34m\u001b[0m\u001b[0m\n\u001b[1;32m      4\u001b[0m         \u001b[0;32mfor\u001b[0m \u001b[0mi\u001b[0m \u001b[0;32min\u001b[0m \u001b[0mrange\u001b[0m\u001b[0;34m(\u001b[0m\u001b[0mlen\u001b[0m\u001b[0;34m(\u001b[0m\u001b[0mself\u001b[0m\u001b[0;34m.\u001b[0m\u001b[0mo_input\u001b[0m\u001b[0;34m)\u001b[0m\u001b[0;34m)\u001b[0m\u001b[0;34m:\u001b[0m\u001b[0;34m\u001b[0m\u001b[0m\n\u001b[1;32m      5\u001b[0m             \u001b[0mself\u001b[0m\u001b[0;34m.\u001b[0m\u001b[0mo_input\u001b[0m\u001b[0;34m[\u001b[0m\u001b[0mi\u001b[0m\u001b[0;34m]\u001b[0m\u001b[0;34m[\u001b[0m\u001b[0;34m:\u001b[0m\u001b[0;34m-\u001b[0m\u001b[0;36m1\u001b[0m\u001b[0;34m]\u001b[0m \u001b[0;34m=\u001b[0m \u001b[0minputs\u001b[0m\u001b[0;34m[\u001b[0m\u001b[0mi\u001b[0m\u001b[0;34m]\u001b[0m\u001b[0;34m\u001b[0m\u001b[0m\n",
      "\u001b[0;31mNameError\u001b[0m: name 'NeuralNetwork' is not defined"
     ]
    }
   ],
   "source": [
    "class NeuralNetwork(NeuralNetwork):\n",
    "    def feedforward2(self, inputs):\n",
    "        #self.o_input[0][:-1]=inputs[0]\n",
    "        for i in range(len(self.o_input)):\n",
    "            self.o_input[i][:-1] = inputs[i]\n",
    "       \n",
    "       # print(\"Winput\",self.W_input_to_hidden[0][0])\n",
    "        \n",
    "        #print(\"u_hidden\",self.u_hidden)\n",
    "       # print(\"o_input\",self.o_input)\n",
    "        \n",
    "        \n",
    "        \n",
    "    ## hidden layer \n",
    "       # print(\"len(self.W_input_to_hidden\",len(self.W_input_to_hidden))\n",
    "       # print(\"len(self.W_input_to_hidden[0]\",len(self.W_input_to_hidden[0]))\n",
    "       # print(\"len(self.W_input_to_hidden[0][0]\",len(self.W_input_to_hidden[0][0]))\n",
    "        #print(\"len(self.u_hidden\",len(self.u_hidden))\n",
    "        #print(\"len(self.u_hidden[0]\",len(self.u_hidden[0]))\n",
    "        #print(self.u_hidden[0][29])\n",
    "        #print(\"len(self.o_input)\",len(self.o_input))\n",
    "        #print(\"len(self.o_input[0])\",len(self.o_input[0]))\n",
    "       # u_hidden=np.zeros((2, self.hidden_layer_size-1))\n",
    "\n",
    "        for i in range(len(self.o_input)):\n",
    "            for k in range(self.hidden_layer_size -1):\n",
    "                for j in range(self.input_layer_size-1):\n",
    "                    #print(self.u_hidden[i][k])\n",
    "                \n",
    "                   # print(self.o_input[i][j])\n",
    "                        self.u_hidden[i][k] += self.W_input_to_hidden[i][j][k]*self.o_input[i][j]\n",
    "            self.o_hidden[i][:-1] = sigmoid(self.u_hidden[i])\n",
    "        \n",
    "\n",
    "    \n",
    "        #output layer\n",
    "        for i in range(len(self.o_input)):\n",
    "            for k in range(self.output_layer_size):\n",
    "                for j in range(self.hidden_layer_size-1):\n",
    "                    #print(self.u_hidden[i][k])\n",
    "                   \n",
    "                   # print(self.o_input[i][j])\n",
    "                  #  self.u_hidden[i][k] += self.W_input_to_hidden[i][k][j]*self.o_input[i][j]\n",
    "                   # self.o_hidden[i][:-1] = sigmoid(self.u_hidden[i])\n",
    "                    self.u_output[i][k] += self.W_hidden_to_output[i][j][k]*self.o_hidden[i][j]\n",
    "        self.o_output = sigmoid(self.u_output)\n",
    "       "
   ]
  },
  {
   "cell_type": "code",
   "execution_count": 30,
   "metadata": {
    "collapsed": true
   },
   "outputs": [],
   "source": [
    "class NeuralNetwork(NeuralNetwork):\n",
    "    def initlength(self,batch_s):\n",
    "\n",
    "\n",
    "        # initialize arrays for activations\n",
    "        self.u_hidden = np.zeros((batch_s, self.hidden_layer_size-1))\n",
    "        self.u_output = np.zeros((batch_s, self.output_layer_size))\n",
    "\n",
    "        # initialize arrays for outputs\n",
    "        self.o_input = np.ones((batch_s, self.input_layer_size))\n",
    "        self.o_hidden = np.ones((batch_s, self.hidden_layer_size))\n",
    "        self.o_output = np.ones((batch_s, self.output_layer_size))\n",
    "\n",
    "        # initialize arrays for partial derivatives according to activations\n",
    "        self.dE_du_hidden = np.zeros((batch_s, self.hidden_layer_size-1))\n",
    "        self.dE_du_output = np.zeros((batch_s, self.output_layer_size))\n",
    "        \n",
    "        self.W_input_to_hidden = np.zeros((batch_s, ))\n",
    "        input_range = 1.0 / self.input_layer_size ** (1/2)\n",
    "        self.W_input_to_hidden = np.random.normal(loc = 0, scale = input_range, size =(batch_s,self.input_layer_size, self.hidden_layer_size-1))\n",
    "        self.W_hidden_to_output = np.random.uniform(size = (batch_s,self.hidden_layer_size, self.output_layer_size)) / np.sqrt(self.hidden_layer_size)\n",
    "      \n",
    "    def weights_init(self,wi=None,wo=None):\n",
    "        input_range = 1.0 / self.input_layer_size ** (1/2)\n",
    "        if wi is not None:\n",
    "            self.W_input_to_hidden = wi # weights between input and hidden layers\n",
    "        else:\n",
    "            self.W_input_to_hidden = np.random.normal(loc = 0, scale = input_range, size =(batch_s,self.input_layer_size, self.hidden_layer_size-1))\n",
    "        if wo is not None:\n",
    "            self.W_hidden_to_output = wo # weights between hidden and output layers\n",
    "        else:\n",
    "            self.W_hidden_to_output = np.random.uniform(size = (batch_s,self.hidden_layer_size, self.output_layer_size)) / np.sqrt(self.hidden_layer_size)\n",
    "\n"
   ]
  },
  {
   "cell_type": "code",
   "execution_count": 31,
   "metadata": {
    "collapsed": true
   },
   "outputs": [],
   "source": [
    "class NeuralNetwork(NeuralNetwork):\n",
    "    def backpropagate2(self, targets, learning_rate=5.0):\n",
    "       # print(\"len(self.dE_du_output)\",len(self.dE_du_output))\n",
    "        #print(\"len(self.dE_du_output[0])\",len(self.dE_du_output[0]))\n",
    "        #print(\"len(self.o_output)\",len(self.o_output))\n",
    "        #print(\"len(self.o_output[0])\",len(self.o_output[0]))\n",
    "        #print(\"len(targets)\",len(targets))\n",
    "        #print(\"len(targets)\",len(targets[0]))\n",
    "       \n",
    "        for j in range(len(self.o_input)): #batch_size\n",
    "            for i in range(self.output_layer_size):\n",
    "                self.dE_du_output[j][i] = 2*(self.o_output[j][i] - targets[j][i])*self.o_output[j][i]*(1-self.o_output[j][i])\n",
    "                self.W_hidden_to_output[j][i]-= learning_rate*self.dE_du_output[j][i]*self.o_hidden[j][i]\n",
    "                self.dE_du_hidden[j] = 2*(self.o_hidden[j][0:-1] - targets[j][i])*self.o_hidden[j][0:-1]*(1-self.o_hidden[j][0:-1])\n",
    "        #print(self.W_hidden_to_output)\n",
    "        #print(self.dE_du_hidden)\n",
    "      #  print(len(self.W_input_to_hidden))\n",
    "       # print(len(self.W_input_to_hidden[0]))\n",
    "        #print(len(self.W_input_to_hidden[0][0]))\n",
    "        for j in range(len(self.o_input)):\n",
    "            for i in range(0,self.hidden_layer_size-1):\n",
    "                self.W_input_to_hidden[j][i] -= learning_rate*self.dE_du_hidden[j][i]*self.o_input[j][i]\n",
    "        #print(self.W_input_to_hidden)"
   ]
  },
  {
   "cell_type": "code",
   "execution_count": 32,
   "metadata": {},
   "outputs": [
    {
     "name": "stdout",
     "output_type": "stream",
     "text": [
      "Output = [[ 0.32756719  0.61762334]\n",
      " [ 0.32756719  0.61762334]]\n",
      "[[ 0.15554372  0.68386681]\n",
      " [ 0.15554372  0.68386681]]\n"
     ]
    }
   ],
   "source": [
    "model = NeuralNetwork(input_layer_size = 2, hidden_layer_size=2, output_layer_size=2, batch_size=2, transfer_f=sigmoid, transfer_df=dsigmoid)\n",
    "w13, w14, w23, w24, w63, w64 = 0.3, -0.5, 0.8, 0.2, 0.2, -0.4\n",
    "w35, w45, w75,w38,w48,w78 = -0.6, 0.4, 0.5,-0.6, 0.4, 0.5\n",
    "# Then initialize the weights according to Figure 2\n",
    "W_input_to_hidden = np.array([[[w13,w23,w63],[w14,w24,w64]],[[w13,w23,w63],[w14,w24,w64]]])\n",
    "W_hidden_to_output = np.array([[[w35,w45,w75],[w38,w48,w78]],[[w35,w45,w75],[w38,w48,w78]]])\n",
    "#W_input_to_hidden = np.array([[[w13,w23,w63],[w14,w24,w64]],[[w13,w23,w63],[w14,w24,w64]]])\n",
    "#W_hidden_to_output = np.array([[[w35,w45,w75]],[[w35,w45,w75]]])\n",
    "model.weights_init(W_input_to_hidden, W_hidden_to_output)\n",
    "\n",
    "# Feed test values\n",
    "test = np.array([[0.8, 0.2],[0.8, 0.2]])\n",
    "model.feedforward2(test)\n",
    "print(\"Output =\", model.o_output)\n",
    "\n",
    "targets = [[[0.4],[0.4]],[[0.4],[0.4]]]\n",
    "model.backpropagate2(targets)\n",
    "#print(\"W_input_to_hidden =\", model.W_input_to_hidden)\n",
    "#print(\"W_hidden_to_output =\", model.W_hidden_to_output)\n",
    "model.feedforward2(test)\n",
    "print(model.o_output)\n"
   ]
  },
  {
   "cell_type": "code",
   "execution_count": 16,
   "metadata": {
    "scrolled": true
   },
   "outputs": [
    {
     "name": "stdout",
     "output_type": "stream",
     "text": [
      "10\n"
     ]
    },
    {
     "data": {
      "image/png": "[encoded data removed]",
      "text/plain": [
       "<matplotlib.figure.Figure at 0x7fbfbec654a8>"
      ]
     },
     "metadata": {},
     "output_type": "display_data"
    }
   ],
   "source": [
    "# And you can run that cell if you want to see what the MNIST dataset looks like\n",
    "print(len(vsmall_training_data[0]))\n",
    "\n",
    "ROW = 2\n",
    "COLUMN = 5\n",
    "for i in range(ROW * COLUMN):\n",
    "    # train[i][0] is i-th image data with size 28x28\n",
    "    image = np.array(training_data[0][i]).reshape(28, 28)   \n",
    "    plt.subplot(ROW, COLUMN, i+1)          \n",
    "    plt.imshow(image, cmap='gray')  # cmap='gray' is for black and white picture.\n",
    "plt.axis('off')  # do not show axis value\n",
    "plt.tight_layout()   # automatic padding between subplots\n",
    "plt.show()"
   ]
  },
  {
   "cell_type": "markdown",
   "metadata": {},
   "source": [
    "<b>Part 1</b>: Build a bigger Neural Network\n",
    "\n",
    "The input layer of the neural network that you will build contains neurons encoding the values of the input pixels. The training data for the network will consist of many 28 by 28 pixel images of scanned handwritten digits. Thus, the input layer contains 784=28×28 units. The second layer of the network is a hidden layer. We set the number of neurons in the hidden layer to 30. The output layer contains 10 neurons.\n",
    "\n",
    "<b>Question 2.1.1</b>: Create the network described above using the NeuralNetwork class."
   ]
  },
  {
   "cell_type": "code",
   "execution_count": 33,
   "metadata": {},
   "outputs": [
    {
     "name": "stdout",
     "output_type": "stream",
     "text": [
      "[Iteration  1/50]  -Training_Accuracy:  9.90 %  -Validation_Accuracy: 12.50 %  -time: 81.48 \n",
      "    - MSE: 5.70347379036\n",
      "[Iteration  2/50]  -Training_Accuracy:  10.10 %  -Validation_Accuracy: 9.00 %  -time: 153.41 \n",
      "    - MSE: 5.69662826152\n",
      "[Iteration  3/50]  -Training_Accuracy:  10.10 %  -Validation_Accuracy: 11.00 %  -time: 235.43 \n",
      "    - MSE: 5.70633368223\n",
      "[Iteration  4/50]  -Training_Accuracy:  10.30 %  -Validation_Accuracy: 9.00 %  -time: 312.86 \n",
      "    - MSE: 5.69785353418\n",
      "[Iteration  5/50]  -Training_Accuracy:  10.00 %  -Validation_Accuracy: 11.50 %  -time: 384.20 \n",
      "    - MSE: 5.69984051305\n",
      "[Iteration  6/50]  -Training_Accuracy:  10.00 %  -Validation_Accuracy: 5.50 %  -time: 458.17 \n",
      "    - MSE: 5.69823583084\n",
      "[Iteration  7/50]  -Training_Accuracy:  10.20 %  -Validation_Accuracy: 6.50 %  -time: 529.56 \n",
      "    - MSE: 5.70324964981\n",
      "[Iteration  8/50]  -Training_Accuracy:  11.40 %  -Validation_Accuracy: 9.00 %  -time: 601.75 \n",
      "    - MSE: 5.69983727767\n",
      "[Iteration  9/50]  -Training_Accuracy:  10.00 %  -Validation_Accuracy: 8.50 %  -time: 673.29 \n",
      "    - MSE: 5.69787512441\n"
     ]
    },
    {
     "ename": "KeyboardInterrupt",
     "evalue": "",
     "output_type": "error",
     "traceback": [
      "\u001b[0;31m---------------------------------------------------------------------------\u001b[0m",
      "\u001b[0;31mKeyboardInterrupt\u001b[0m                         Traceback (most recent call last)",
      "\u001b[0;32m<ipython-input-33-586ad98ed559>\u001b[0m in \u001b[0;36m<module>\u001b[0;34m()\u001b[0m\n\u001b[1;32m      1\u001b[0m \u001b[0;31m# Define your neural network\u001b[0m\u001b[0;34m\u001b[0m\u001b[0;34m\u001b[0m\u001b[0m\n\u001b[1;32m      2\u001b[0m \u001b[0mmnist_model\u001b[0m \u001b[0;34m=\u001b[0m \u001b[0mNeuralNetwork\u001b[0m\u001b[0;34m(\u001b[0m\u001b[0minput_layer_size\u001b[0m \u001b[0;34m=\u001b[0m \u001b[0;36m784\u001b[0m\u001b[0;34m,\u001b[0m \u001b[0mhidden_layer_size\u001b[0m\u001b[0;34m=\u001b[0m\u001b[0;36m30\u001b[0m\u001b[0;34m,\u001b[0m \u001b[0moutput_layer_size\u001b[0m\u001b[0;34m=\u001b[0m\u001b[0;36m10\u001b[0m\u001b[0;34m,\u001b[0m \u001b[0mbatch_size\u001b[0m\u001b[0;34m=\u001b[0m\u001b[0;36m1000\u001b[0m\u001b[0;34m,\u001b[0m \u001b[0mtransfer_f\u001b[0m\u001b[0;34m=\u001b[0m\u001b[0msigmoid\u001b[0m\u001b[0;34m,\u001b[0m \u001b[0mtransfer_df\u001b[0m\u001b[0;34m=\u001b[0m\u001b[0mdsigmoid\u001b[0m\u001b[0;34m)\u001b[0m\u001b[0;34m\u001b[0m\u001b[0m\n\u001b[0;32m----> 3\u001b[0;31m \u001b[0mmnist_model\u001b[0m\u001b[0;34m.\u001b[0m\u001b[0mtrain\u001b[0m\u001b[0;34m(\u001b[0m\u001b[0mdata\u001b[0m\u001b[0;34m=\u001b[0m\u001b[0msmall_training_data\u001b[0m\u001b[0;34m,\u001b[0m \u001b[0mvalidation_data\u001b[0m\u001b[0;34m=\u001b[0m\u001b[0msmall_validation_data\u001b[0m\u001b[0;34m,\u001b[0m \u001b[0miterations\u001b[0m\u001b[0;34m=\u001b[0m\u001b[0;36m50\u001b[0m\u001b[0;34m,\u001b[0m \u001b[0mlearning_rate\u001b[0m\u001b[0;34m=\u001b[0m\u001b[0;36m5.0\u001b[0m\u001b[0;34m,\u001b[0m \u001b[0mverbose\u001b[0m\u001b[0;34m=\u001b[0m\u001b[0;32mTrue\u001b[0m\u001b[0;34m)\u001b[0m\u001b[0;34m\u001b[0m\u001b[0m\n\u001b[0m",
      "\u001b[0;32m~/Lab1/NeuralNetwork.py\u001b[0m in \u001b[0;36mtrain\u001b[0;34m(self, data, validation_data, iterations, learning_rate, verbose)\u001b[0m\n\u001b[1;32m     71\u001b[0m             \u001b[0merror\u001b[0m \u001b[0;34m=\u001b[0m \u001b[0mtargets\u001b[0m \u001b[0;34m-\u001b[0m \u001b[0mself\u001b[0m\u001b[0;34m.\u001b[0m\u001b[0mo_output\u001b[0m\u001b[0;34m\u001b[0m\u001b[0m\n\u001b[1;32m     72\u001b[0m             \u001b[0merror\u001b[0m \u001b[0;34m*=\u001b[0m \u001b[0merror\u001b[0m\u001b[0;34m\u001b[0m\u001b[0m\n\u001b[0;32m---> 73\u001b[0;31m             \u001b[0mtraining_accuracies\u001b[0m\u001b[0;34m.\u001b[0m\u001b[0mappend\u001b[0m\u001b[0;34m(\u001b[0m\u001b[0;36m100\u001b[0m\u001b[0;34m*\u001b[0m\u001b[0mself\u001b[0m\u001b[0;34m.\u001b[0m\u001b[0mpredict\u001b[0m\u001b[0;34m(\u001b[0m\u001b[0mdata\u001b[0m\u001b[0;34m)\u001b[0m\u001b[0;34m/\u001b[0m\u001b[0mlen\u001b[0m\u001b[0;34m(\u001b[0m\u001b[0mdata\u001b[0m\u001b[0;34m[\u001b[0m\u001b[0;36m0\u001b[0m\u001b[0;34m]\u001b[0m\u001b[0;34m)\u001b[0m\u001b[0;34m)\u001b[0m\u001b[0;34m\u001b[0m\u001b[0m\n\u001b[0m\u001b[1;32m     74\u001b[0m             \u001b[0mvalidation_accuracies\u001b[0m\u001b[0;34m.\u001b[0m\u001b[0mappend\u001b[0m\u001b[0;34m(\u001b[0m\u001b[0;36m100\u001b[0m\u001b[0;34m*\u001b[0m\u001b[0mself\u001b[0m\u001b[0;34m.\u001b[0m\u001b[0mpredict\u001b[0m\u001b[0;34m(\u001b[0m\u001b[0mvalidation_data\u001b[0m\u001b[0;34m)\u001b[0m\u001b[0;34m/\u001b[0m\u001b[0mlen\u001b[0m\u001b[0;34m(\u001b[0m\u001b[0mvalidation_data\u001b[0m\u001b[0;34m[\u001b[0m\u001b[0;36m0\u001b[0m\u001b[0;34m]\u001b[0m\u001b[0;34m)\u001b[0m\u001b[0;34m)\u001b[0m\u001b[0;34m\u001b[0m\u001b[0m\n\u001b[1;32m     75\u001b[0m             \u001b[0;32mif\u001b[0m \u001b[0mvalidation_accuracies\u001b[0m\u001b[0;34m[\u001b[0m\u001b[0;34m-\u001b[0m\u001b[0;36m1\u001b[0m\u001b[0;34m]\u001b[0m \u001b[0;34m>\u001b[0m \u001b[0mbest_val_acc\u001b[0m\u001b[0;34m:\u001b[0m\u001b[0;34m\u001b[0m\u001b[0m\n",
      "\u001b[0;32m~/Lab1/NeuralNetwork.py\u001b[0m in \u001b[0;36mpredict\u001b[0;34m(self, test_data)\u001b[0m\n\u001b[1;32m    119\u001b[0m             evaluated. \"\"\"\n\u001b[1;32m    120\u001b[0m         \u001b[0mself\u001b[0m\u001b[0;34m.\u001b[0m\u001b[0minitlength\u001b[0m\u001b[0;34m(\u001b[0m\u001b[0mlen\u001b[0m\u001b[0;34m(\u001b[0m\u001b[0mtest_data\u001b[0m\u001b[0;34m[\u001b[0m\u001b[0;36m0\u001b[0m\u001b[0;34m]\u001b[0m\u001b[0;34m)\u001b[0m\u001b[0;34m)\u001b[0m\u001b[0;34m\u001b[0m\u001b[0m\n\u001b[0;32m--> 121\u001b[0;31m         \u001b[0mself\u001b[0m\u001b[0;34m.\u001b[0m\u001b[0mfeedforward2\u001b[0m\u001b[0;34m(\u001b[0m\u001b[0mtest_data\u001b[0m\u001b[0;34m[\u001b[0m\u001b[0;36m0\u001b[0m\u001b[0;34m]\u001b[0m\u001b[0;34m)\u001b[0m\u001b[0;34m\u001b[0m\u001b[0m\n\u001b[0m\u001b[1;32m    122\u001b[0m         \u001b[0manswer\u001b[0m \u001b[0;34m=\u001b[0m \u001b[0mnp\u001b[0m\u001b[0;34m.\u001b[0m\u001b[0margmax\u001b[0m\u001b[0;34m(\u001b[0m\u001b[0mtest_data\u001b[0m\u001b[0;34m[\u001b[0m\u001b[0;36m1\u001b[0m\u001b[0;34m]\u001b[0m\u001b[0;34m,\u001b[0m \u001b[0maxis\u001b[0m\u001b[0;34m=\u001b[0m\u001b[0;36m1\u001b[0m\u001b[0;34m)\u001b[0m\u001b[0;34m\u001b[0m\u001b[0m\n\u001b[1;32m    123\u001b[0m         \u001b[0mprediction\u001b[0m \u001b[0;34m=\u001b[0m \u001b[0mnp\u001b[0m\u001b[0;34m.\u001b[0m\u001b[0margmax\u001b[0m\u001b[0;34m(\u001b[0m\u001b[0mself\u001b[0m\u001b[0;34m.\u001b[0m\u001b[0mo_output\u001b[0m\u001b[0;34m,\u001b[0m \u001b[0maxis\u001b[0m\u001b[0;34m=\u001b[0m\u001b[0;36m1\u001b[0m\u001b[0;34m)\u001b[0m\u001b[0;34m\u001b[0m\u001b[0m\n",
      "\u001b[0;32m<ipython-input-29-737f6955302e>\u001b[0m in \u001b[0;36mfeedforward2\u001b[0;34m(self, inputs)\u001b[0m\n\u001b[1;32m     29\u001b[0m \u001b[0;34m\u001b[0m\u001b[0m\n\u001b[1;32m     30\u001b[0m                    \u001b[0;31m# print(self.o_input[i][j])\u001b[0m\u001b[0;34m\u001b[0m\u001b[0;34m\u001b[0m\u001b[0m\n\u001b[0;32m---> 31\u001b[0;31m                         \u001b[0mself\u001b[0m\u001b[0;34m.\u001b[0m\u001b[0mu_hidden\u001b[0m\u001b[0;34m[\u001b[0m\u001b[0mi\u001b[0m\u001b[0;34m]\u001b[0m\u001b[0;34m[\u001b[0m\u001b[0mk\u001b[0m\u001b[0;34m]\u001b[0m \u001b[0;34m+=\u001b[0m \u001b[0mself\u001b[0m\u001b[0;34m.\u001b[0m\u001b[0mW_input_to_hidden\u001b[0m\u001b[0;34m[\u001b[0m\u001b[0mi\u001b[0m\u001b[0;34m]\u001b[0m\u001b[0;34m[\u001b[0m\u001b[0mj\u001b[0m\u001b[0;34m]\u001b[0m\u001b[0;34m[\u001b[0m\u001b[0mk\u001b[0m\u001b[0;34m]\u001b[0m\u001b[0;34m*\u001b[0m\u001b[0mself\u001b[0m\u001b[0;34m.\u001b[0m\u001b[0mo_input\u001b[0m\u001b[0;34m[\u001b[0m\u001b[0mi\u001b[0m\u001b[0;34m]\u001b[0m\u001b[0;34m[\u001b[0m\u001b[0mj\u001b[0m\u001b[0;34m]\u001b[0m\u001b[0;34m\u001b[0m\u001b[0m\n\u001b[0m\u001b[1;32m     32\u001b[0m             \u001b[0mself\u001b[0m\u001b[0;34m.\u001b[0m\u001b[0mo_hidden\u001b[0m\u001b[0;34m[\u001b[0m\u001b[0mi\u001b[0m\u001b[0;34m]\u001b[0m\u001b[0;34m[\u001b[0m\u001b[0;34m:\u001b[0m\u001b[0;34m-\u001b[0m\u001b[0;36m1\u001b[0m\u001b[0;34m]\u001b[0m \u001b[0;34m=\u001b[0m \u001b[0msigmoid\u001b[0m\u001b[0;34m(\u001b[0m\u001b[0mself\u001b[0m\u001b[0;34m.\u001b[0m\u001b[0mu_hidden\u001b[0m\u001b[0;34m[\u001b[0m\u001b[0mi\u001b[0m\u001b[0;34m]\u001b[0m\u001b[0;34m)\u001b[0m\u001b[0;34m\u001b[0m\u001b[0m\n\u001b[1;32m     33\u001b[0m \u001b[0;34m\u001b[0m\u001b[0m\n",
      "\u001b[0;31mKeyboardInterrupt\u001b[0m: "
     ]
    }
   ],
   "source": [
    "# Define your neural network\n",
    "mnist_model = NeuralNetwork(input_layer_size = 784, hidden_layer_size=30, output_layer_size=10, batch_size=1000, transfer_f=sigmoid, transfer_df=dsigmoid)\n",
    "mnist_model.train(data=small_training_data, validation_data=small_validation_data, iterations=300, learning_rate=0.1, verbose=True)"
   ]
  },
  {
   "cell_type": "markdown",
   "metadata": {},
   "source": [
    "<b>Question 2.1.2</b>: Train your Neural Network on the small subset of MNIST (300 iterations) and print the new accuracy on test data. You will use small_validation_data for validation. Try different learning rates (0.1, 1.0, 10.0). You should use the train() function of the NeuralNetwork class to train your network, and the weights_init() function to reinitialize weights between tests. Print the accuracy of each model on test data using the predict() function."
   ]
  },
  {
   "cell_type": "code",
   "execution_count": null,
   "metadata": {
    "collapsed": true,
    "scrolled": true
   },
   "outputs": [],
   "source": [
    "# Train NN and print accuracy on test data\n",
    "\n",
    "# Learning rate 0.1\n",
    "mnist_model = NeuralNetwork(input_layer_size = 784, hidden_layer_size=30, output_layer_size=10, batch_size=1000, transfer_f=sigmoid, transfer_df=dsigmoid)\n",
    "mnist_model.train(data=small_training_data, validation_data=small_validation_data, iterations=300, learning_rate=0.1, verbose=True)\n",
    "# Learning rate 1.\n",
    "mnist_model.initlength(1000)\n",
    "mnist_model.train(data=small_training_data, validation_data=small_validation_data, iterations=300, learning_rate=1, verbose=True)\n",
    "# Learning rate 10.\n",
    "mnist_model.initlength(1000)\n",
    "mnist_model.train(data=small_training_data, validation_data=small_validation_data, iterations=300, learning_rate=10, verbose=True)"
   ]
  },
  {
   "cell_type": "markdown",
   "metadata": {},
   "source": [
    "<b>Question 2.1.3</b>: Do the same with 15 and 75 hidden neurons."
   ]
  },
  {
   "cell_type": "code",
   "execution_count": null,
   "metadata": {
    "collapsed": true
   },
   "outputs": [],
   "source": [
    "# Define your neural network\n",
    "# 15 hidden neurons \n",
    "mnist_model = NeuralNetwork(input_layer_size = 784, hidden_layer_size=15, output_layer_size=10, batch_size=1000, transfer_f=sigmoid, transfer_df=dsigmoid)\n",
    "#Learning rate 0.1\n",
    "mnist_model.train(data=small_training_data, validation_data=small_validation_data, iterations=300, learning_rate=0.1, verbose=True)\n",
    "# Learning rate 1.\n",
    "mnist_model.initlength(1000)\n",
    "mnist_model.train(data=small_training_data, validation_data=small_validation_data, iterations=300, learning_rate=1, verbose=True)\n",
    "# Learning rate 10.\n",
    "mnist_model.initlength(1000)\n",
    "mnist_model.train(data=small_training_data, validation_data=small_validation_data, iterations=300, learning_rate=10, verbose=True)\n",
    "\n",
    "\n",
    "# 75 hidden neurons\n",
    "mnist_model = NeuralNetwork(input_layer_size = 784, hidden_layer_size=75, output_layer_size=10, batch_size=1000, transfer_f=sigmoid, transfer_df=dsigmoid)\n",
    "#Learning rate 0.1\n",
    "mnist_model.train(data=small_training_data, validation_data=small_validation_data, iterations=300, learning_rate=0.1, verbose=True)\n",
    "# Learning rate 1.\n",
    "mnist_model.initlength(1000)\n",
    "mnist_model.train(data=small_training_data, validation_data=small_validation_data, iterations=300, learning_rate=1, verbose=True)\n",
    "# Learning rate 10.\n",
    "mnist_model.initlength(1000)\n",
    "mnist_model.train(data=small_training_data, validation_data=small_validation_data, iterations=300, learning_rate=10, verbose=True)\n"
   ]
  },
  {
   "cell_type": "markdown",
   "metadata": {},
   "source": [
    "<b>Question 2.1.3</b>: Repeat Questions 2.1.2 and 2.1.3 on the very small datasets. You will use small_validation_data for validation."
   ]
  },
  {
   "cell_type": "code",
   "execution_count": null,
   "metadata": {
    "collapsed": true
   },
   "outputs": [],
   "source": [
    "# Train NN and print accuracy on test data\n",
    "# 30 hidden neurons\n",
    "# Learning rate 0.1\n",
    "mnist_model = NeuralNetwork(input_layer_size = 784, hidden_layer_size=30, output_layer_size=10, batch_size=10, transfer_f=sigmoid, transfer_df=dsigmoid)\n",
    "mnist_model.train(data=vsmall_training_data, validation_data=small_validation_data, iterations=10, learning_rate=10, verbose=True)\n",
    "\n",
    "\n",
    "# 15 hidden neurons\n",
    "# Learning rate 0.1\n",
    "# Learning rate 1.\n",
    "# Learning rate 10.\n",
    "\n",
    "# 75 hidden neurons\n",
    "# Learning rate 0.1\n",
    "# Learning rate 1.\n",
    "# Learning rate 10."
   ]
  },
  {
   "cell_type": "markdown",
   "metadata": {},
   "source": [
    "<b>Question 2.1.5</b>: Explain the results you obtained at Questions 2.1.2, 2.1.3 and 2.1.4."
   ]
  },
  {
   "cell_type": "markdown",
   "metadata": {},
   "source": [
    "Answer: ..."
   ]
  },
  {
   "cell_type": "markdown",
   "metadata": {},
   "source": [
    "<b>Question 2.1.6</b>: Among all the numbers of hidden neurons and learning rates you tried in previous questions, which ones would you expect to achieve best performances on the whole dataset? Justify your answer."
   ]
  },
  {
   "cell_type": "markdown",
   "metadata": {},
   "source": [
    "Answer: ..."
   ]
  },
  {
   "cell_type": "markdown",
   "metadata": {},
   "source": [
    "<b>Question 2.1.7</b>: Train a model with the number of hidden neurons and the learning rate you chose in Question 2.1.6 and print its accuracy on the test set. You will use validation_data for validation. Training can be long on the whole dataset (~40 minutes): we suggest that you work on the optional part while waiting for the training to finish."
   ]
  },
  {
   "cell_type": "code",
   "execution_count": null,
   "metadata": {
    "collapsed": true
   },
   "outputs": [],
   "source": [
    "mnist_model = "
   ]
  },
  {
   "cell_type": "markdown",
   "metadata": {},
   "source": [
    "<b>Part 2 (optional)</b>: Another loss function\n",
    "\n",
    "In classification problems, we usually replace the sigmoids in the output layer by a \"softmax\" function and the MSE loss by a \"cross-entropy\" loss. More formally, let $u = (u_1, ..., u_n)$ be the vector representing the activation of the output layer of a Neural Network. The output of that neural network is $o = (o_1, ..., o_n) = \\textrm{softmax}(u)$, and\n",
    "\n",
    "<div align=\"center\">$\\textrm{softmax}(u) = (\\frac{e^{u_1}}{\\sum_{k=1}^n e^{u_k}}, ..., \\frac{e^{u_n}}{\\sum_{k=1}^n e^{u_k}})$.</div>\n",
    "\n",
    "If $t = (t_1, ..., t_n)$ is a vector of non-negative targets such that $\\sum_{k=1}^n t_k = 1$ (which is the case in classification problems, where one target is equal to 1 and all others are equal to 0), then the cross-entropy loss is defined as follows:\n",
    "\n",
    "<div align=\"center\">$L_{xe}(o, t) = - \\sum_{k=1}^n t_k\\log(o_k)$.</div>\n",
    "\n",
    "<b>Question 2.2.1</b>: Let $L_{xe}$ be the cross-entropy loss function and $u_i$, $i \\in \\lbrace 1, ..., n \\rbrace$, be the activations of the output neurons. Let us assume that the transfer function of the output neurons is the softmax function. Targets are $t_1, ..., t_n$. Derive a formula for $\\frac{\\partial L_{xe}}{\\partial u_i}$ (details of your calculations are not required)."
   ]
  },
  {
   "cell_type": "markdown",
   "metadata": {},
   "source": [
    "Answer: $\\frac{\\partial L_{xe}}{\\partial u_i} = $"
   ]
  },
  {
   "cell_type": "markdown",
   "metadata": {},
   "source": [
    "<b>Question 2.2.2</b>: Implement a new feedforward() function and a new backpropagate() function adapted to the cross-entropy loss instead of the MSE loss."
   ]
  },
  {
   "cell_type": "code",
   "execution_count": null,
   "metadata": {
    "collapsed": true
   },
   "outputs": [],
   "source": [
    "class NeuralNetwork(NeuralNetwork):\n",
    "    def feedforward_xe(self, inputs):\n",
    "        pass\n",
    "\n",
    "    def backpropagate_xe(self, targets, learning_rate=5.0):\n",
    "        pass"
   ]
  },
  {
   "cell_type": "markdown",
   "metadata": {},
   "source": [
    "<b>Question 2.2.3</b>: Create a new Neural Network with the same architecture as in Question 2.1.1 and train it using the softmax cross-entropy loss."
   ]
  },
  {
   "cell_type": "code",
   "execution_count": null,
   "metadata": {
    "collapsed": true
   },
   "outputs": [],
   "source": [
    "# Define your neural network\n",
    "mnist_model_xe = \n",
    "\n",
    "# Train NN and print accuracy on validation data"
   ]
  },
  {
   "cell_type": "code",
   "execution_count": null,
   "metadata": {
    "collapsed": true
   },
   "outputs": [],
   "source": [
    "# Print accuracy on test data"
   ]
  },
  {
   "cell_type": "markdown",
   "metadata": {},
   "source": [
    "<b>Question 2.2.4</b>: Compare your results with the MSE loss and with the cross-entropy loss."
   ]
  },
  {
   "cell_type": "markdown",
   "metadata": {},
   "source": [
    "Answer: "
   ]
  },
  {
   "cell_type": "markdown",
   "metadata": {},
   "source": [
    "<div align=\"center\"><b>THE END!</b>"
   ]
  },
  {
   "cell_type": "code",
   "execution_count": null,
   "metadata": {
    "collapsed": true
   },
   "outputs": [],
   "source": []
  }
 ],
 "metadata": {
  "kernelspec": {
   "display_name": "Python 3",
   "language": "python",
   "name": "python3"
  },
  "language_info": {
   "codemirror_mode": {
    "name": "ipython",
    "version": 3
   },
   "file_extension": ".py",
   "mimetype": "text/x-python",
   "name": "python",
   "nbconvert_exporter": "python",
   "pygments_lexer": "ipython3",
   "version": "3.6.3"
  }
 },
 "nbformat": 4,
 "nbformat_minor": 2
}
